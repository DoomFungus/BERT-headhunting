{
  "nbformat": 4,
  "nbformat_minor": 0,
  "metadata": {
    "colab": {
      "provenance": [],
      "gpuType": "T4"
    },
    "kernelspec": {
      "name": "python3",
      "display_name": "Python 3"
    },
    "language_info": {
      "name": "python"
    },
    "accelerator": "GPU",
    "widgets": {
      "application/vnd.jupyter.widget-state+json": {
        "34e1685b8c6c4de4be7aeff214dd80dc": {
          "model_module": "@jupyter-widgets/controls",
          "model_name": "HBoxModel",
          "model_module_version": "1.5.0",
          "state": {
            "_dom_classes": [],
            "_model_module": "@jupyter-widgets/controls",
            "_model_module_version": "1.5.0",
            "_model_name": "HBoxModel",
            "_view_count": null,
            "_view_module": "@jupyter-widgets/controls",
            "_view_module_version": "1.5.0",
            "_view_name": "HBoxView",
            "box_style": "",
            "children": [
              "IPY_MODEL_5a45ffcb9e77428d88b87c898fa2e865",
              "IPY_MODEL_775103cb00b048749d5a58778474eff6",
              "IPY_MODEL_0f16c6dbb83a464d8bbc465edd3ddd50"
            ],
            "layout": "IPY_MODEL_a9a80a1f88ba4e16a3997cf2d344980e"
          }
        },
        "5a45ffcb9e77428d88b87c898fa2e865": {
          "model_module": "@jupyter-widgets/controls",
          "model_name": "HTMLModel",
          "model_module_version": "1.5.0",
          "state": {
            "_dom_classes": [],
            "_model_module": "@jupyter-widgets/controls",
            "_model_module_version": "1.5.0",
            "_model_name": "HTMLModel",
            "_view_count": null,
            "_view_module": "@jupyter-widgets/controls",
            "_view_module_version": "1.5.0",
            "_view_name": "HTMLView",
            "description": "",
            "description_tooltip": null,
            "layout": "IPY_MODEL_4ce536f3d61345ce851657d01c322156",
            "placeholder": "​",
            "style": "IPY_MODEL_667c4ddb76d44a48887d65eaf959b7c2",
            "value": "Map: 100%"
          }
        },
        "775103cb00b048749d5a58778474eff6": {
          "model_module": "@jupyter-widgets/controls",
          "model_name": "FloatProgressModel",
          "model_module_version": "1.5.0",
          "state": {
            "_dom_classes": [],
            "_model_module": "@jupyter-widgets/controls",
            "_model_module_version": "1.5.0",
            "_model_name": "FloatProgressModel",
            "_view_count": null,
            "_view_module": "@jupyter-widgets/controls",
            "_view_module_version": "1.5.0",
            "_view_name": "ProgressView",
            "bar_style": "success",
            "description": "",
            "description_tooltip": null,
            "layout": "IPY_MODEL_e289f38928fa43bfbfa1079299df1a9c",
            "max": 959,
            "min": 0,
            "orientation": "horizontal",
            "style": "IPY_MODEL_7d5b7452db5540b697f7c4702d0ec313",
            "value": 959
          }
        },
        "0f16c6dbb83a464d8bbc465edd3ddd50": {
          "model_module": "@jupyter-widgets/controls",
          "model_name": "HTMLModel",
          "model_module_version": "1.5.0",
          "state": {
            "_dom_classes": [],
            "_model_module": "@jupyter-widgets/controls",
            "_model_module_version": "1.5.0",
            "_model_name": "HTMLModel",
            "_view_count": null,
            "_view_module": "@jupyter-widgets/controls",
            "_view_module_version": "1.5.0",
            "_view_name": "HTMLView",
            "description": "",
            "description_tooltip": null,
            "layout": "IPY_MODEL_86698e9156004b40815303927545e33c",
            "placeholder": "​",
            "style": "IPY_MODEL_5cae1e23167f45e38874b3af158455d5",
            "value": " 959/959 [00:00&lt;00:00, 2141.44 examples/s]"
          }
        },
        "a9a80a1f88ba4e16a3997cf2d344980e": {
          "model_module": "@jupyter-widgets/base",
          "model_name": "LayoutModel",
          "model_module_version": "1.2.0",
          "state": {
            "_model_module": "@jupyter-widgets/base",
            "_model_module_version": "1.2.0",
            "_model_name": "LayoutModel",
            "_view_count": null,
            "_view_module": "@jupyter-widgets/base",
            "_view_module_version": "1.2.0",
            "_view_name": "LayoutView",
            "align_content": null,
            "align_items": null,
            "align_self": null,
            "border": null,
            "bottom": null,
            "display": null,
            "flex": null,
            "flex_flow": null,
            "grid_area": null,
            "grid_auto_columns": null,
            "grid_auto_flow": null,
            "grid_auto_rows": null,
            "grid_column": null,
            "grid_gap": null,
            "grid_row": null,
            "grid_template_areas": null,
            "grid_template_columns": null,
            "grid_template_rows": null,
            "height": null,
            "justify_content": null,
            "justify_items": null,
            "left": null,
            "margin": null,
            "max_height": null,
            "max_width": null,
            "min_height": null,
            "min_width": null,
            "object_fit": null,
            "object_position": null,
            "order": null,
            "overflow": null,
            "overflow_x": null,
            "overflow_y": null,
            "padding": null,
            "right": null,
            "top": null,
            "visibility": null,
            "width": null
          }
        },
        "4ce536f3d61345ce851657d01c322156": {
          "model_module": "@jupyter-widgets/base",
          "model_name": "LayoutModel",
          "model_module_version": "1.2.0",
          "state": {
            "_model_module": "@jupyter-widgets/base",
            "_model_module_version": "1.2.0",
            "_model_name": "LayoutModel",
            "_view_count": null,
            "_view_module": "@jupyter-widgets/base",
            "_view_module_version": "1.2.0",
            "_view_name": "LayoutView",
            "align_content": null,
            "align_items": null,
            "align_self": null,
            "border": null,
            "bottom": null,
            "display": null,
            "flex": null,
            "flex_flow": null,
            "grid_area": null,
            "grid_auto_columns": null,
            "grid_auto_flow": null,
            "grid_auto_rows": null,
            "grid_column": null,
            "grid_gap": null,
            "grid_row": null,
            "grid_template_areas": null,
            "grid_template_columns": null,
            "grid_template_rows": null,
            "height": null,
            "justify_content": null,
            "justify_items": null,
            "left": null,
            "margin": null,
            "max_height": null,
            "max_width": null,
            "min_height": null,
            "min_width": null,
            "object_fit": null,
            "object_position": null,
            "order": null,
            "overflow": null,
            "overflow_x": null,
            "overflow_y": null,
            "padding": null,
            "right": null,
            "top": null,
            "visibility": null,
            "width": null
          }
        },
        "667c4ddb76d44a48887d65eaf959b7c2": {
          "model_module": "@jupyter-widgets/controls",
          "model_name": "DescriptionStyleModel",
          "model_module_version": "1.5.0",
          "state": {
            "_model_module": "@jupyter-widgets/controls",
            "_model_module_version": "1.5.0",
            "_model_name": "DescriptionStyleModel",
            "_view_count": null,
            "_view_module": "@jupyter-widgets/base",
            "_view_module_version": "1.2.0",
            "_view_name": "StyleView",
            "description_width": ""
          }
        },
        "e289f38928fa43bfbfa1079299df1a9c": {
          "model_module": "@jupyter-widgets/base",
          "model_name": "LayoutModel",
          "model_module_version": "1.2.0",
          "state": {
            "_model_module": "@jupyter-widgets/base",
            "_model_module_version": "1.2.0",
            "_model_name": "LayoutModel",
            "_view_count": null,
            "_view_module": "@jupyter-widgets/base",
            "_view_module_version": "1.2.0",
            "_view_name": "LayoutView",
            "align_content": null,
            "align_items": null,
            "align_self": null,
            "border": null,
            "bottom": null,
            "display": null,
            "flex": null,
            "flex_flow": null,
            "grid_area": null,
            "grid_auto_columns": null,
            "grid_auto_flow": null,
            "grid_auto_rows": null,
            "grid_column": null,
            "grid_gap": null,
            "grid_row": null,
            "grid_template_areas": null,
            "grid_template_columns": null,
            "grid_template_rows": null,
            "height": null,
            "justify_content": null,
            "justify_items": null,
            "left": null,
            "margin": null,
            "max_height": null,
            "max_width": null,
            "min_height": null,
            "min_width": null,
            "object_fit": null,
            "object_position": null,
            "order": null,
            "overflow": null,
            "overflow_x": null,
            "overflow_y": null,
            "padding": null,
            "right": null,
            "top": null,
            "visibility": null,
            "width": null
          }
        },
        "7d5b7452db5540b697f7c4702d0ec313": {
          "model_module": "@jupyter-widgets/controls",
          "model_name": "ProgressStyleModel",
          "model_module_version": "1.5.0",
          "state": {
            "_model_module": "@jupyter-widgets/controls",
            "_model_module_version": "1.5.0",
            "_model_name": "ProgressStyleModel",
            "_view_count": null,
            "_view_module": "@jupyter-widgets/base",
            "_view_module_version": "1.2.0",
            "_view_name": "StyleView",
            "bar_color": null,
            "description_width": ""
          }
        },
        "86698e9156004b40815303927545e33c": {
          "model_module": "@jupyter-widgets/base",
          "model_name": "LayoutModel",
          "model_module_version": "1.2.0",
          "state": {
            "_model_module": "@jupyter-widgets/base",
            "_model_module_version": "1.2.0",
            "_model_name": "LayoutModel",
            "_view_count": null,
            "_view_module": "@jupyter-widgets/base",
            "_view_module_version": "1.2.0",
            "_view_name": "LayoutView",
            "align_content": null,
            "align_items": null,
            "align_self": null,
            "border": null,
            "bottom": null,
            "display": null,
            "flex": null,
            "flex_flow": null,
            "grid_area": null,
            "grid_auto_columns": null,
            "grid_auto_flow": null,
            "grid_auto_rows": null,
            "grid_column": null,
            "grid_gap": null,
            "grid_row": null,
            "grid_template_areas": null,
            "grid_template_columns": null,
            "grid_template_rows": null,
            "height": null,
            "justify_content": null,
            "justify_items": null,
            "left": null,
            "margin": null,
            "max_height": null,
            "max_width": null,
            "min_height": null,
            "min_width": null,
            "object_fit": null,
            "object_position": null,
            "order": null,
            "overflow": null,
            "overflow_x": null,
            "overflow_y": null,
            "padding": null,
            "right": null,
            "top": null,
            "visibility": null,
            "width": null
          }
        },
        "5cae1e23167f45e38874b3af158455d5": {
          "model_module": "@jupyter-widgets/controls",
          "model_name": "DescriptionStyleModel",
          "model_module_version": "1.5.0",
          "state": {
            "_model_module": "@jupyter-widgets/controls",
            "_model_module_version": "1.5.0",
            "_model_name": "DescriptionStyleModel",
            "_view_count": null,
            "_view_module": "@jupyter-widgets/base",
            "_view_module_version": "1.2.0",
            "_view_name": "StyleView",
            "description_width": ""
          }
        }
      }
    }
  },
  "cells": [
    {
      "cell_type": "markdown",
      "source": [
        "# Masking and pruning BERT heads\n",
        "### By Pavlo Kravets\n",
        "\n",
        "As my project for a Deep Learning course, I decided to recreate the famous experiment: removing the heads of fine-tuned BERT model and testing how much the performance will be impacted.\n",
        "\n",
        "The original paper, \"Are Sixteen Heads Really Better than One?\" by Michel et al. can be found [here](https://arxiv.org/abs/1905.10650).\n",
        "\n",
        "I used the Transformers library by Huggingface (basing it on PyTorch). A lot of this work is based on their [experimental setup](https://github.com/huggingface/transformers/blob/main/examples/research_projects/bertology/run_bertology.py). Sadly (or luckily, because I got to do something interesting), it does not seem to work with the current Transformers version, so I had to rework it a bit."
      ],
      "metadata": {
        "id": "EMouG13V1mve"
      }
    },
    {
      "cell_type": "code",
      "execution_count": 1,
      "metadata": {
        "colab": {
          "base_uri": "https://localhost:8080/"
        },
        "id": "ivA2X-0lMN6a",
        "outputId": "caba2d80-38f5-4104-d5ca-56359e93519c"
      },
      "outputs": [
        {
          "output_type": "stream",
          "name": "stdout",
          "text": [
            "Requirement already satisfied: transformers[torch] in /usr/local/lib/python3.10/dist-packages (4.33.1)\n",
            "Requirement already satisfied: filelock in /usr/local/lib/python3.10/dist-packages (from transformers[torch]) (3.12.2)\n",
            "Requirement already satisfied: huggingface-hub<1.0,>=0.15.1 in /usr/local/lib/python3.10/dist-packages (from transformers[torch]) (0.16.4)\n",
            "Requirement already satisfied: numpy>=1.17 in /usr/local/lib/python3.10/dist-packages (from transformers[torch]) (1.23.5)\n",
            "Requirement already satisfied: packaging>=20.0 in /usr/local/lib/python3.10/dist-packages (from transformers[torch]) (23.1)\n",
            "Requirement already satisfied: pyyaml>=5.1 in /usr/local/lib/python3.10/dist-packages (from transformers[torch]) (6.0.1)\n",
            "Requirement already satisfied: regex!=2019.12.17 in /usr/local/lib/python3.10/dist-packages (from transformers[torch]) (2023.6.3)\n",
            "Requirement already satisfied: requests in /usr/local/lib/python3.10/dist-packages (from transformers[torch]) (2.31.0)\n",
            "Requirement already satisfied: tokenizers!=0.11.3,<0.14,>=0.11.1 in /usr/local/lib/python3.10/dist-packages (from transformers[torch]) (0.13.3)\n",
            "Requirement already satisfied: safetensors>=0.3.1 in /usr/local/lib/python3.10/dist-packages (from transformers[torch]) (0.3.3)\n",
            "Requirement already satisfied: tqdm>=4.27 in /usr/local/lib/python3.10/dist-packages (from transformers[torch]) (4.66.1)\n",
            "Requirement already satisfied: torch!=1.12.0,>=1.10 in /usr/local/lib/python3.10/dist-packages (from transformers[torch]) (2.0.1+cu118)\n",
            "Requirement already satisfied: accelerate>=0.20.3 in /usr/local/lib/python3.10/dist-packages (from transformers[torch]) (0.22.0)\n",
            "Requirement already satisfied: psutil in /usr/local/lib/python3.10/dist-packages (from accelerate>=0.20.3->transformers[torch]) (5.9.5)\n",
            "Requirement already satisfied: fsspec in /usr/local/lib/python3.10/dist-packages (from huggingface-hub<1.0,>=0.15.1->transformers[torch]) (2023.6.0)\n",
            "Requirement already satisfied: typing-extensions>=3.7.4.3 in /usr/local/lib/python3.10/dist-packages (from huggingface-hub<1.0,>=0.15.1->transformers[torch]) (4.5.0)\n",
            "Requirement already satisfied: sympy in /usr/local/lib/python3.10/dist-packages (from torch!=1.12.0,>=1.10->transformers[torch]) (1.12)\n",
            "Requirement already satisfied: networkx in /usr/local/lib/python3.10/dist-packages (from torch!=1.12.0,>=1.10->transformers[torch]) (3.1)\n",
            "Requirement already satisfied: jinja2 in /usr/local/lib/python3.10/dist-packages (from torch!=1.12.0,>=1.10->transformers[torch]) (3.1.2)\n",
            "Requirement already satisfied: triton==2.0.0 in /usr/local/lib/python3.10/dist-packages (from torch!=1.12.0,>=1.10->transformers[torch]) (2.0.0)\n",
            "Requirement already satisfied: cmake in /usr/local/lib/python3.10/dist-packages (from triton==2.0.0->torch!=1.12.0,>=1.10->transformers[torch]) (3.27.4.1)\n",
            "Requirement already satisfied: lit in /usr/local/lib/python3.10/dist-packages (from triton==2.0.0->torch!=1.12.0,>=1.10->transformers[torch]) (16.0.6)\n",
            "Requirement already satisfied: charset-normalizer<4,>=2 in /usr/local/lib/python3.10/dist-packages (from requests->transformers[torch]) (3.2.0)\n",
            "Requirement already satisfied: idna<4,>=2.5 in /usr/local/lib/python3.10/dist-packages (from requests->transformers[torch]) (3.4)\n",
            "Requirement already satisfied: urllib3<3,>=1.21.1 in /usr/local/lib/python3.10/dist-packages (from requests->transformers[torch]) (2.0.4)\n",
            "Requirement already satisfied: certifi>=2017.4.17 in /usr/local/lib/python3.10/dist-packages (from requests->transformers[torch]) (2023.7.22)\n",
            "Requirement already satisfied: MarkupSafe>=2.0 in /usr/local/lib/python3.10/dist-packages (from jinja2->torch!=1.12.0,>=1.10->transformers[torch]) (2.1.3)\n",
            "Requirement already satisfied: mpmath>=0.19 in /usr/local/lib/python3.10/dist-packages (from sympy->torch!=1.12.0,>=1.10->transformers[torch]) (1.3.0)\n",
            "Requirement already satisfied: datasets in /usr/local/lib/python3.10/dist-packages (2.14.5)\n",
            "Requirement already satisfied: numpy>=1.17 in /usr/local/lib/python3.10/dist-packages (from datasets) (1.23.5)\n",
            "Requirement already satisfied: pyarrow>=8.0.0 in /usr/local/lib/python3.10/dist-packages (from datasets) (9.0.0)\n",
            "Requirement already satisfied: dill<0.3.8,>=0.3.0 in /usr/local/lib/python3.10/dist-packages (from datasets) (0.3.7)\n",
            "Requirement already satisfied: pandas in /usr/local/lib/python3.10/dist-packages (from datasets) (1.5.3)\n",
            "Requirement already satisfied: requests>=2.19.0 in /usr/local/lib/python3.10/dist-packages (from datasets) (2.31.0)\n",
            "Requirement already satisfied: tqdm>=4.62.1 in /usr/local/lib/python3.10/dist-packages (from datasets) (4.66.1)\n",
            "Requirement already satisfied: xxhash in /usr/local/lib/python3.10/dist-packages (from datasets) (3.3.0)\n",
            "Requirement already satisfied: multiprocess in /usr/local/lib/python3.10/dist-packages (from datasets) (0.70.15)\n",
            "Requirement already satisfied: fsspec[http]<2023.9.0,>=2023.1.0 in /usr/local/lib/python3.10/dist-packages (from datasets) (2023.6.0)\n",
            "Requirement already satisfied: aiohttp in /usr/local/lib/python3.10/dist-packages (from datasets) (3.8.5)\n",
            "Requirement already satisfied: huggingface-hub<1.0.0,>=0.14.0 in /usr/local/lib/python3.10/dist-packages (from datasets) (0.16.4)\n",
            "Requirement already satisfied: packaging in /usr/local/lib/python3.10/dist-packages (from datasets) (23.1)\n",
            "Requirement already satisfied: pyyaml>=5.1 in /usr/local/lib/python3.10/dist-packages (from datasets) (6.0.1)\n",
            "Requirement already satisfied: attrs>=17.3.0 in /usr/local/lib/python3.10/dist-packages (from aiohttp->datasets) (23.1.0)\n",
            "Requirement already satisfied: charset-normalizer<4.0,>=2.0 in /usr/local/lib/python3.10/dist-packages (from aiohttp->datasets) (3.2.0)\n",
            "Requirement already satisfied: multidict<7.0,>=4.5 in /usr/local/lib/python3.10/dist-packages (from aiohttp->datasets) (6.0.4)\n",
            "Requirement already satisfied: async-timeout<5.0,>=4.0.0a3 in /usr/local/lib/python3.10/dist-packages (from aiohttp->datasets) (4.0.3)\n",
            "Requirement already satisfied: yarl<2.0,>=1.0 in /usr/local/lib/python3.10/dist-packages (from aiohttp->datasets) (1.9.2)\n",
            "Requirement already satisfied: frozenlist>=1.1.1 in /usr/local/lib/python3.10/dist-packages (from aiohttp->datasets) (1.4.0)\n",
            "Requirement already satisfied: aiosignal>=1.1.2 in /usr/local/lib/python3.10/dist-packages (from aiohttp->datasets) (1.3.1)\n",
            "Requirement already satisfied: filelock in /usr/local/lib/python3.10/dist-packages (from huggingface-hub<1.0.0,>=0.14.0->datasets) (3.12.2)\n",
            "Requirement already satisfied: typing-extensions>=3.7.4.3 in /usr/local/lib/python3.10/dist-packages (from huggingface-hub<1.0.0,>=0.14.0->datasets) (4.5.0)\n",
            "Requirement already satisfied: idna<4,>=2.5 in /usr/local/lib/python3.10/dist-packages (from requests>=2.19.0->datasets) (3.4)\n",
            "Requirement already satisfied: urllib3<3,>=1.21.1 in /usr/local/lib/python3.10/dist-packages (from requests>=2.19.0->datasets) (2.0.4)\n",
            "Requirement already satisfied: certifi>=2017.4.17 in /usr/local/lib/python3.10/dist-packages (from requests>=2.19.0->datasets) (2023.7.22)\n",
            "Requirement already satisfied: python-dateutil>=2.8.1 in /usr/local/lib/python3.10/dist-packages (from pandas->datasets) (2.8.2)\n",
            "Requirement already satisfied: pytz>=2020.1 in /usr/local/lib/python3.10/dist-packages (from pandas->datasets) (2023.3.post1)\n",
            "Requirement already satisfied: six>=1.5 in /usr/local/lib/python3.10/dist-packages (from python-dateutil>=2.8.1->pandas->datasets) (1.16.0)\n",
            "Requirement already satisfied: evaluate in /usr/local/lib/python3.10/dist-packages (0.4.0)\n",
            "Requirement already satisfied: datasets>=2.0.0 in /usr/local/lib/python3.10/dist-packages (from evaluate) (2.14.5)\n",
            "Requirement already satisfied: numpy>=1.17 in /usr/local/lib/python3.10/dist-packages (from evaluate) (1.23.5)\n",
            "Requirement already satisfied: dill in /usr/local/lib/python3.10/dist-packages (from evaluate) (0.3.7)\n",
            "Requirement already satisfied: pandas in /usr/local/lib/python3.10/dist-packages (from evaluate) (1.5.3)\n",
            "Requirement already satisfied: requests>=2.19.0 in /usr/local/lib/python3.10/dist-packages (from evaluate) (2.31.0)\n",
            "Requirement already satisfied: tqdm>=4.62.1 in /usr/local/lib/python3.10/dist-packages (from evaluate) (4.66.1)\n",
            "Requirement already satisfied: xxhash in /usr/local/lib/python3.10/dist-packages (from evaluate) (3.3.0)\n",
            "Requirement already satisfied: multiprocess in /usr/local/lib/python3.10/dist-packages (from evaluate) (0.70.15)\n",
            "Requirement already satisfied: fsspec[http]>=2021.05.0 in /usr/local/lib/python3.10/dist-packages (from evaluate) (2023.6.0)\n",
            "Requirement already satisfied: huggingface-hub>=0.7.0 in /usr/local/lib/python3.10/dist-packages (from evaluate) (0.16.4)\n",
            "Requirement already satisfied: packaging in /usr/local/lib/python3.10/dist-packages (from evaluate) (23.1)\n",
            "Requirement already satisfied: responses<0.19 in /usr/local/lib/python3.10/dist-packages (from evaluate) (0.18.0)\n",
            "Requirement already satisfied: pyarrow>=8.0.0 in /usr/local/lib/python3.10/dist-packages (from datasets>=2.0.0->evaluate) (9.0.0)\n",
            "Requirement already satisfied: aiohttp in /usr/local/lib/python3.10/dist-packages (from datasets>=2.0.0->evaluate) (3.8.5)\n",
            "Requirement already satisfied: pyyaml>=5.1 in /usr/local/lib/python3.10/dist-packages (from datasets>=2.0.0->evaluate) (6.0.1)\n",
            "Requirement already satisfied: filelock in /usr/local/lib/python3.10/dist-packages (from huggingface-hub>=0.7.0->evaluate) (3.12.2)\n",
            "Requirement already satisfied: typing-extensions>=3.7.4.3 in /usr/local/lib/python3.10/dist-packages (from huggingface-hub>=0.7.0->evaluate) (4.5.0)\n",
            "Requirement already satisfied: charset-normalizer<4,>=2 in /usr/local/lib/python3.10/dist-packages (from requests>=2.19.0->evaluate) (3.2.0)\n",
            "Requirement already satisfied: idna<4,>=2.5 in /usr/local/lib/python3.10/dist-packages (from requests>=2.19.0->evaluate) (3.4)\n",
            "Requirement already satisfied: urllib3<3,>=1.21.1 in /usr/local/lib/python3.10/dist-packages (from requests>=2.19.0->evaluate) (2.0.4)\n",
            "Requirement already satisfied: certifi>=2017.4.17 in /usr/local/lib/python3.10/dist-packages (from requests>=2.19.0->evaluate) (2023.7.22)\n",
            "Requirement already satisfied: python-dateutil>=2.8.1 in /usr/local/lib/python3.10/dist-packages (from pandas->evaluate) (2.8.2)\n",
            "Requirement already satisfied: pytz>=2020.1 in /usr/local/lib/python3.10/dist-packages (from pandas->evaluate) (2023.3.post1)\n",
            "Requirement already satisfied: attrs>=17.3.0 in /usr/local/lib/python3.10/dist-packages (from aiohttp->datasets>=2.0.0->evaluate) (23.1.0)\n",
            "Requirement already satisfied: multidict<7.0,>=4.5 in /usr/local/lib/python3.10/dist-packages (from aiohttp->datasets>=2.0.0->evaluate) (6.0.4)\n",
            "Requirement already satisfied: async-timeout<5.0,>=4.0.0a3 in /usr/local/lib/python3.10/dist-packages (from aiohttp->datasets>=2.0.0->evaluate) (4.0.3)\n",
            "Requirement already satisfied: yarl<2.0,>=1.0 in /usr/local/lib/python3.10/dist-packages (from aiohttp->datasets>=2.0.0->evaluate) (1.9.2)\n",
            "Requirement already satisfied: frozenlist>=1.1.1 in /usr/local/lib/python3.10/dist-packages (from aiohttp->datasets>=2.0.0->evaluate) (1.4.0)\n",
            "Requirement already satisfied: aiosignal>=1.1.2 in /usr/local/lib/python3.10/dist-packages (from aiohttp->datasets>=2.0.0->evaluate) (1.3.1)\n",
            "Requirement already satisfied: six>=1.5 in /usr/local/lib/python3.10/dist-packages (from python-dateutil>=2.8.1->pandas->evaluate) (1.16.0)\n"
          ]
        }
      ],
      "source": [
        "!pip install transformers[torch]\n",
        "!pip install datasets\n",
        "!pip install evaluate"
      ]
    },
    {
      "cell_type": "markdown",
      "source": [
        "# Dataset and model\n",
        "\n",
        "I will be using bert-base-uncased as my model of choice and will perform the evaluation against CoLA task. Given that it is a benchmark task, and the test labels are unavailable, I had to create new dataset to use. I united the train and validation splits, and the split the result into three parts: train, validation, and test. As such, the obtained results cannot be directly compared to the benchmark, as a task is a bit different."
      ],
      "metadata": {
        "id": "Mlqph18j3pwO"
      }
    },
    {
      "cell_type": "code",
      "source": [
        "from transformers import (\n",
        "    AutoModelForSequenceClassification,\n",
        "    AutoTokenizer,\n",
        "    Trainer,\n",
        "    TrainingArguments,\n",
        "    set_seed\n",
        ")\n",
        "from datasets import (\n",
        "    load_dataset,\n",
        "    DatasetDict\n",
        ")\n",
        "from functools import partial\n",
        "from evaluate import (\n",
        "    load,\n",
        "    evaluator\n",
        ")\n",
        "import numpy as np\n",
        "\n",
        "def create_raw_dataset():\n",
        "  raw_dataset = {}\n",
        "  raw_dataset['train'] = load_dataset('glue', 'cola', split = 'train[0%:80%]+validation[0%:85%]')\n",
        "  raw_dataset['validation'] = load_dataset('glue', 'cola', split = 'train[80%:90%]+validation[85%:95%]')\n",
        "  raw_dataset['test'] = load_dataset('glue', 'cola', split = 'train[90%:100%]+validation[95%:100%]')\n",
        "  return DatasetDict(raw_dataset)\n",
        "\n",
        "def tokenize_dataset(dataset, tokenizer):\n",
        "  return tokenizer(dataset['sentence'], truncation=True)\n",
        "\n",
        "def compute_metrics(eval_pred, metric):\n",
        "  logits, labels = eval_pred\n",
        "  predictions = np.argmax(logits, axis=-1)\n",
        "  return metric.compute(predictions=predictions, references=labels)\n",
        "\n",
        "set_seed(42)\n",
        "\n",
        "raw_dataset = create_raw_dataset()\n",
        "\n",
        "num_labels = len(raw_dataset['train'].unique('label'))\n",
        "base_model = AutoModelForSequenceClassification.from_pretrained('bert-base-uncased', num_labels =  num_labels)\n",
        "tokenizer = AutoTokenizer.from_pretrained('bert-base-uncased')\n",
        "\n",
        "tokenized_dataset = raw_dataset.map(partial(tokenize_dataset, tokenizer = tokenizer))\n",
        "\n",
        "cola_metric = load('glue', 'cola')\n",
        "\n",
        "training_args = TrainingArguments('model_bert-base-uncased')\n",
        "trainer = Trainer(base_model,\n",
        "                  training_args,\n",
        "                  train_dataset = tokenized_dataset['train'],\n",
        "                  eval_dataset = tokenized_dataset['validation'],\n",
        "                  tokenizer = tokenizer,\n",
        "                  compute_metrics=partial(compute_metrics, metric = cola_metric))\n",
        "trainer.train()\n",
        "\n",
        "pass"
      ],
      "metadata": {
        "id": "cvev47PqF1pH",
        "colab": {
          "base_uri": "https://localhost:8080/",
          "height": 336,
          "referenced_widgets": [
            "34e1685b8c6c4de4be7aeff214dd80dc",
            "5a45ffcb9e77428d88b87c898fa2e865",
            "775103cb00b048749d5a58778474eff6",
            "0f16c6dbb83a464d8bbc465edd3ddd50",
            "a9a80a1f88ba4e16a3997cf2d344980e",
            "4ce536f3d61345ce851657d01c322156",
            "667c4ddb76d44a48887d65eaf959b7c2",
            "e289f38928fa43bfbfa1079299df1a9c",
            "7d5b7452db5540b697f7c4702d0ec313",
            "86698e9156004b40815303927545e33c",
            "5cae1e23167f45e38874b3af158455d5"
          ]
        },
        "outputId": "9dcf0a42-8dcb-4183-98db-c4920603750d"
      },
      "execution_count": 2,
      "outputs": [
        {
          "output_type": "stream",
          "name": "stderr",
          "text": [
            "Some weights of BertForSequenceClassification were not initialized from the model checkpoint at bert-base-uncased and are newly initialized: ['classifier.bias', 'classifier.weight']\n",
            "You should probably TRAIN this model on a down-stream task to be able to use it for predictions and inference.\n"
          ]
        },
        {
          "output_type": "display_data",
          "data": {
            "text/plain": [
              "Map:   0%|          | 0/959 [00:00<?, ? examples/s]"
            ],
            "application/vnd.jupyter.widget-view+json": {
              "version_major": 2,
              "version_minor": 0,
              "model_id": "34e1685b8c6c4de4be7aeff214dd80dc"
            }
          },
          "metadata": {}
        },
        {
          "output_type": "stream",
          "name": "stderr",
          "text": [
            "You're using a BertTokenizerFast tokenizer. Please note that with a fast tokenizer, using the `__call__` method is faster than using a method to encode the text followed by a call to the `pad` method to get a padded encoding.\n"
          ]
        },
        {
          "output_type": "display_data",
          "data": {
            "text/plain": [
              "<IPython.core.display.HTML object>"
            ],
            "text/html": [
              "\n",
              "    <div>\n",
              "      \n",
              "      <progress value='2898' max='2898' style='width:300px; height:20px; vertical-align: middle;'></progress>\n",
              "      [2898/2898 04:56, Epoch 3/3]\n",
              "    </div>\n",
              "    <table border=\"1\" class=\"dataframe\">\n",
              "  <thead>\n",
              " <tr style=\"text-align: left;\">\n",
              "      <th>Step</th>\n",
              "      <th>Training Loss</th>\n",
              "    </tr>\n",
              "  </thead>\n",
              "  <tbody>\n",
              "    <tr>\n",
              "      <td>500</td>\n",
              "      <td>0.547700</td>\n",
              "    </tr>\n",
              "    <tr>\n",
              "      <td>1000</td>\n",
              "      <td>0.471300</td>\n",
              "    </tr>\n",
              "    <tr>\n",
              "      <td>1500</td>\n",
              "      <td>0.313000</td>\n",
              "    </tr>\n",
              "    <tr>\n",
              "      <td>2000</td>\n",
              "      <td>0.289900</td>\n",
              "    </tr>\n",
              "    <tr>\n",
              "      <td>2500</td>\n",
              "      <td>0.183900</td>\n",
              "    </tr>\n",
              "  </tbody>\n",
              "</table><p>"
            ]
          },
          "metadata": {}
        }
      ]
    },
    {
      "cell_type": "markdown",
      "source": [
        "Now we will move the model to evaluation mode (disabling the dropout) and perform the initial evaluation. CoLA uses Matthews correlation coefficient as it's metric"
      ],
      "metadata": {
        "id": "uA0Z2f8T5E7r"
      }
    },
    {
      "cell_type": "code",
      "source": [
        "base_model.eval()\n",
        "\n",
        "task_evaluator = evaluator(\"text-classification\")\n",
        "evaluation_res = task_evaluator.compute(\n",
        "          model_or_pipeline=base_model,\n",
        "          data=raw_dataset['test'],\n",
        "          input_column='sentence',\n",
        "          metric=cola_metric,\n",
        "          tokenizer = tokenizer,\n",
        "          label_mapping={\"LABEL_0\": 0, \"LABEL_1\": 1})\n",
        "{'matthews_correlation': evaluation_res['matthews_correlation'],\n",
        "        'inference_time': 1/evaluation_res['samples_per_second'],\n",
        "        'memory_footprint': base_model.get_memory_footprint()}"
      ],
      "metadata": {
        "id": "eMYVSPU-NJMx",
        "colab": {
          "base_uri": "https://localhost:8080/"
        },
        "outputId": "56954fb2-e5f8-474f-ae18-f9905b5dd1f7"
      },
      "execution_count": 3,
      "outputs": [
        {
          "output_type": "execute_result",
          "data": {
            "text/plain": [
              "{'matthews_correlation': 0.5612113773304545,\n",
              " 'inference_time': 0.026073023803748516,\n",
              " 'memory_footprint': 437943304}"
            ]
          },
          "metadata": {},
          "execution_count": 3
        }
      ]
    },
    {
      "cell_type": "code",
      "source": [
        "from torch.utils.data import DataLoader\n",
        "from sklearn.metrics import matthews_corrcoef\n",
        "\n",
        "def cola_compute_metrics(preds, labels):\n",
        "  return matthews_corrcoef(labels, preds)\n",
        "\n",
        "pruning_dataset = tokenized_dataset['test'].remove_columns('sentence').with_format(\"torch\")\n",
        "\n",
        "eval_dataloader = DataLoader(pruning_dataset, batch_size = 1)"
      ],
      "metadata": {
        "id": "Q2FZVTRP2gFU"
      },
      "execution_count": 4,
      "outputs": []
    },
    {
      "cell_type": "markdown",
      "source": [
        "This function is used to compute the head importance. We do it by obtaining the gradients for all attention heads. Then we normalize them - layerwise and globally. We also obtain predictions for the given data - we are using them to calculate model's score on given metric.\n"
      ],
      "metadata": {
        "id": "6blvMBto7Wxy"
      }
    },
    {
      "cell_type": "code",
      "source": [
        "import torch\n",
        "from tqdm import tqdm\n",
        "\n",
        "device = torch.device('cuda')\n",
        "\n",
        "def compute_heads_importance(model, eval_dataloader,\n",
        "                             compute_importance=True,\n",
        "                             head_mask=None,\n",
        "                             actually_pruned=False,\n",
        "                             print_iteration=True):\n",
        "  # Prepare our tensors\n",
        "  n_layers, n_heads = model.config.num_hidden_layers, model.config.num_attention_heads\n",
        "  head_importance = torch.zeros(n_layers, n_heads).to(device)\n",
        "\n",
        "  if head_mask is None:\n",
        "    head_mask = torch.ones(n_layers, n_heads).to(device)\n",
        "\n",
        "  head_mask.requires_grad_(requires_grad=True)\n",
        "  # If actually pruned attention multi-head, set head mask to None to avoid shape mismatch\n",
        "  if actually_pruned:\n",
        "    head_mask = None\n",
        "\n",
        "  preds = None\n",
        "  labels = None\n",
        "  tot_tokens = 0.0\n",
        "\n",
        "  for step, inputs in enumerate(tqdm(eval_dataloader, desc=\"Iteration\", disable = not print_iteration)):\n",
        "    for k, v in inputs.items():\n",
        "      inputs[k] = v.to(device)\n",
        "\n",
        "    # Do a forward pass (not with torch.no_grad() since we need gradients for importance score - see below)\n",
        "    outputs = model.forward(input_ids = inputs['input_ids'],\n",
        "                    token_type_ids = inputs['token_type_ids'],\n",
        "                    attention_mask = inputs['attention_mask'],\n",
        "                    labels = inputs['label'],\n",
        "                    output_attentions = True,\n",
        "                    head_mask=head_mask)\n",
        "    loss, logits, all_attentions = (\n",
        "            outputs['loss'],\n",
        "            outputs['logits'],\n",
        "            outputs['attentions'],\n",
        "    )  # Loss and logits are the first, attention the last\n",
        "    loss.backward()  # Backpropagate to populate the gradients in the head mask\n",
        "\n",
        "    if compute_importance:\n",
        "      head_importance += head_mask.grad.abs().detach()\n",
        "\n",
        "    # Also store our logits/labels if we want to compute metrics afterwards\n",
        "    if preds is None:\n",
        "      preds = logits.detach().cpu().numpy()\n",
        "      labels = inputs[\"label\"].detach().cpu().numpy()\n",
        "    else:\n",
        "      preds = np.append(preds, logits.detach().cpu().numpy(), axis=0)\n",
        "      labels = np.append(labels, inputs[\"label\"].detach().cpu().numpy(), axis=0)\n",
        "\n",
        "    tot_tokens += inputs[\"attention_mask\"].float().detach().sum().data\n",
        "\n",
        "  # Normalize\n",
        "  head_importance /= tot_tokens\n",
        "  # Layerwise importance normalization\n",
        "\n",
        "  exponent = 2\n",
        "  norm_by_layer = torch.pow(torch.pow(head_importance, exponent).sum(-1), 1 / exponent)\n",
        "  head_importance /= norm_by_layer.unsqueeze(-1) + 1e-20\n",
        "\n",
        "  head_importance = (head_importance - head_importance.min()) / (head_importance.max() - head_importance.min())\n",
        "\n",
        "  return head_importance, preds, labels"
      ],
      "metadata": {
        "id": "GzCBvFE2ZfG8"
      },
      "execution_count": 5,
      "outputs": []
    },
    {
      "cell_type": "markdown",
      "source": [
        "This method is used to iteratively mask the heads of the model until it reaches the threshold. It does so in batches:\n",
        "1. First, the mask is calculated for the original model\n",
        "2. Then, several (up to head batch size) least important unmasked heads are chosen and masked\n",
        "3. Then, the model is scored via the given metric\n",
        "4. If the threshold is not yet reached, steps 2-4 are repeated\n",
        "In this case, the batch size is 0.1 of the number of heads (144 for BERT) and the threshold is 0.75 of the original score"
      ],
      "metadata": {
        "collapsed": false,
        "id": "tz3Qc-C48IIG"
      }
    },
    {
      "cell_type": "code",
      "source": [
        "def mask_heads(model, eval_dataloader):\n",
        "  head_importance, preds, labels = compute_heads_importance(model, eval_dataloader, print_iteration = False)\n",
        "  preds = np.argmax(preds, axis=1)\n",
        "  original_score = cola_compute_metrics(preds, labels)\n",
        "  print(f\"Masking: original score: {original_score}, threshold: {original_score * 0.75}\")\n",
        "\n",
        "  new_head_mask = torch.ones_like(head_importance)\n",
        "  num_to_mask = max(1, int(new_head_mask.numel() * 0.1))\n",
        "\n",
        "  current_score = original_score\n",
        "  masking_results = {'scores': [original_score], 'heads': [new_head_mask.numel()]}\n",
        "  while current_score >= original_score * 0.75:\n",
        "    head_mask = new_head_mask.clone()\n",
        "    head_importance[head_mask == 0.0] = float(\"Inf\")\n",
        "    current_heads_to_mask = head_importance.view(-1).sort()[1]\n",
        "\n",
        "    if len(current_heads_to_mask) <= num_to_mask:\n",
        "      break\n",
        "\n",
        "    # mask heads\n",
        "    current_heads_to_mask = current_heads_to_mask[:num_to_mask]\n",
        "    new_head_mask = new_head_mask.view(-1)\n",
        "    with torch.no_grad():\n",
        "      new_head_mask[current_heads_to_mask] = 0.0\n",
        "    new_head_mask = new_head_mask.view_as(head_mask)\n",
        "    new_head_mask = new_head_mask.clone().detach()\n",
        "\n",
        "    # Compute metric and head importance again\n",
        "    head_importance, preds, labels = compute_heads_importance(model, eval_dataloader, head_mask=new_head_mask)\n",
        "    preds = np.argmax(preds, axis=1)\n",
        "    current_score = cola_compute_metrics(preds, labels)\n",
        "    masking_results['scores'].append(current_score)\n",
        "    masking_results['heads'].append(new_head_mask.sum().item())\n",
        "    print(f\"Masking: current score: {current_score}, \\\n",
        "    remaining heads {new_head_mask.sum()} \\\n",
        "    ({new_head_mask.sum() / new_head_mask.numel() * 100} percents)\")\n",
        "\n",
        "  return head_mask, masking_results"
      ],
      "metadata": {
        "id": "U3Wg8uyk5fuH"
      },
      "execution_count": 6,
      "outputs": []
    },
    {
      "cell_type": "markdown",
      "source": [
        "Finally, this function prunes the attention heads. Unlike masking, it actually removes the heads of the model, making it smaller. It can also increase the inference speed - but the common belief is that the effect is not particularly pronounced on the stronger hardware, as the layer cannot be fully masked."
      ],
      "metadata": {
        "collapsed": false,
        "id": "D9oPGyws8III"
      }
    },
    {
      "cell_type": "code",
      "source": [
        "def prune_heads(model, eval_dataloader, head_mask):\n",
        "  _, preds, labels = compute_heads_importance(model, eval_dataloader, compute_importance=False, head_mask=head_mask, print_iteration = False)\n",
        "  preds = np.argmax(preds, axis=1)\n",
        "\n",
        "  original_num_params = sum(p.numel() for p in model.parameters())\n",
        "  heads_to_prune = {layer: (1 - head_mask[layer].long()).nonzero().squeeze().tolist() for layer in range(len(head_mask))}\n",
        "\n",
        "  assert sum(len(h) for h in heads_to_prune.values()) == (1 - head_mask.long()).sum().item()\n",
        "  model.prune_heads(heads_to_prune)\n",
        "  pruned_num_params = sum(p.numel() for p in model.parameters())\n",
        "\n",
        "  _, preds, labels = compute_heads_importance(\n",
        "        model,\n",
        "        eval_dataloader,\n",
        "        compute_importance=False,\n",
        "        head_mask=None,\n",
        "        actually_pruned=True,\n",
        "        print_iteration = False\n",
        "        )\n",
        "  preds = np.argmax(preds, axis=1)\n",
        "  score_pruning = cola_compute_metrics(preds, labels)\n",
        "\n",
        "  print(\n",
        "      f\"\\nPruning: original num of params: {original_num_params}, \\\n",
        "      after pruning {pruned_num_params} \\\n",
        "      ({pruned_num_params / original_num_params * 100} percents)\",\n",
        "\n",
        "  )\n",
        "  print(f\"Score with pruning: {score_pruning}\")"
      ],
      "metadata": {
        "id": "CEUjMR095imn"
      },
      "execution_count": 7,
      "outputs": []
    },
    {
      "cell_type": "code",
      "source": [
        "result_head_mask, masking_results = mask_heads(base_model, eval_dataloader)\n",
        "prune_heads(base_model, eval_dataloader, result_head_mask)"
      ],
      "metadata": {
        "id": "GKGma_rLBAMv",
        "colab": {
          "base_uri": "https://localhost:8080/"
        },
        "outputId": "d8ec76a6-6739-44c5-9524-10c31387a90a"
      },
      "execution_count": 8,
      "outputs": [
        {
          "output_type": "stream",
          "name": "stdout",
          "text": [
            "Masking: original score: 0.5612113773304545, threshold: 0.4209085329978408\n"
          ]
        },
        {
          "output_type": "stream",
          "name": "stderr",
          "text": [
            "Iteration: 100%|██████████| 907/907 [00:30<00:00, 29.27it/s]\n"
          ]
        },
        {
          "output_type": "stream",
          "name": "stdout",
          "text": [
            "Masking: current score: 0.5557079855375493,     remaining heads 130.0     (90.27777862548828 percents)\n"
          ]
        },
        {
          "output_type": "stream",
          "name": "stderr",
          "text": [
            "Iteration: 100%|██████████| 907/907 [00:31<00:00, 29.14it/s]\n"
          ]
        },
        {
          "output_type": "stream",
          "name": "stdout",
          "text": [
            "Masking: current score: 0.5455098635779807,     remaining heads 116.0     (80.55555725097656 percents)\n"
          ]
        },
        {
          "output_type": "stream",
          "name": "stderr",
          "text": [
            "Iteration: 100%|██████████| 907/907 [00:31<00:00, 28.52it/s]\n"
          ]
        },
        {
          "output_type": "stream",
          "name": "stdout",
          "text": [
            "Masking: current score: 0.5345652751944655,     remaining heads 102.0     (70.83332824707031 percents)\n"
          ]
        },
        {
          "output_type": "stream",
          "name": "stderr",
          "text": [
            "Iteration: 100%|██████████| 907/907 [00:31<00:00, 29.26it/s]\n"
          ]
        },
        {
          "output_type": "stream",
          "name": "stdout",
          "text": [
            "Masking: current score: 0.524822946686575,     remaining heads 88.0     (61.11111068725586 percents)\n"
          ]
        },
        {
          "output_type": "stream",
          "name": "stderr",
          "text": [
            "Iteration: 100%|██████████| 907/907 [00:31<00:00, 28.44it/s]\n"
          ]
        },
        {
          "output_type": "stream",
          "name": "stdout",
          "text": [
            "Masking: current score: 0.5021452329480853,     remaining heads 74.0     (51.38888931274414 percents)\n"
          ]
        },
        {
          "output_type": "stream",
          "name": "stderr",
          "text": [
            "Iteration: 100%|██████████| 907/907 [00:31<00:00, 29.21it/s]\n"
          ]
        },
        {
          "output_type": "stream",
          "name": "stdout",
          "text": [
            "Masking: current score: 0.46637167477893554,     remaining heads 60.0     (41.666664123535156 percents)\n"
          ]
        },
        {
          "output_type": "stream",
          "name": "stderr",
          "text": [
            "Iteration: 100%|██████████| 907/907 [00:30<00:00, 29.26it/s]\n"
          ]
        },
        {
          "output_type": "stream",
          "name": "stdout",
          "text": [
            "Masking: current score: 0.39568183177840416,     remaining heads 46.0     (31.94444465637207 percents)\n",
            "\n",
            "Pruning: original num of params: 109483778,       after pruning 92952578       (84.90077680731844 percents)\n",
            "Score with pruning: 0.46637167477893554\n"
          ]
        }
      ]
    },
    {
      "cell_type": "markdown",
      "source": [
        "Interestingly enough, we can see that on the used hardware (T4 GPU in Google Colab) the inference speed up is reasonably high - the inference speed is lower by 20%, from ~0.025 to ~0.02, while the size of the model has shrunk by ~17%. The relatively small memory footprint decrease can be attributed to non-attention layers of the model - even if we pruned 84 out of 144 heads, there are a lot of other parameters in the model."
      ],
      "metadata": {
        "collapsed": false,
        "id": "tAY0QPwW8IIJ"
      }
    },
    {
      "cell_type": "code",
      "source": [
        "evaluation_res = task_evaluator.compute(\n",
        "          model_or_pipeline=base_model,\n",
        "          data=raw_dataset['test'],\n",
        "          input_column='sentence',\n",
        "          metric=cola_metric,\n",
        "          tokenizer = tokenizer,\n",
        "          label_mapping={\"LABEL_0\": 0, \"LABEL_1\": 1})\n",
        "{'matthews_correlation': evaluation_res['matthews_correlation'],\n",
        "        'inference_time': 1/evaluation_res['samples_per_second'],\n",
        "        'memory_footprint': base_model.get_memory_footprint()}"
      ],
      "metadata": {
        "id": "gkcmr2j0vKyD",
        "colab": {
          "base_uri": "https://localhost:8080/"
        },
        "outputId": "dd77ef74-d418-4de7-9e0c-0d94f336df77"
      },
      "execution_count": 9,
      "outputs": [
        {
          "output_type": "execute_result",
          "data": {
            "text/plain": [
              "{'matthews_correlation': 0.46637167477893554,\n",
              " 'inference_time': 0.012441920599779513,\n",
              " 'memory_footprint': 371818504}"
            ]
          },
          "metadata": {},
          "execution_count": 9
        }
      ]
    },
    {
      "cell_type": "markdown",
      "source": [
        "Here is the plot of the drop in the score against the number of remaining heads. As we can see, several of the least important heads can be removed almost without the drop in the score. The effect may be even more pronounced with smaller batch size."
      ],
      "metadata": {
        "collapsed": false,
        "id": "0BNHu63g8IIK"
      }
    },
    {
      "cell_type": "code",
      "source": [
        "import matplotlib.pyplot as plt\n",
        "\n",
        "plt.plot(masking_results['heads'], masking_results['scores'])\n",
        "plt.xlabel(\"Number of attention heads\")\n",
        "plt.ylabel(\"CoLA score\")\n",
        "plt.axis([max(masking_results['heads'])+1, min(masking_results['heads'])-1, 0, max(masking_results['scores'])+0.1])\n",
        "\n",
        "pass"
      ],
      "metadata": {
        "id": "PgSEtIc7wPgi",
        "colab": {
          "base_uri": "https://localhost:8080/",
          "height": 449
        },
        "outputId": "7a44519b-a524-4f4e-9f5c-cd62e8e5a962"
      },
      "execution_count": 10,
      "outputs": [
        {
          "output_type": "display_data",
          "data": {
            "text/plain": [
              "<Figure size 640x480 with 1 Axes>"
            ],
            "image/png": "[encoded data removed]"
          },
          "metadata": {}
        }
      ]
    },
    {
      "cell_type": "markdown",
      "source": [
        "# Additional thoughts\n",
        "\n",
        "While the technique introduced by Michel et al. certainly has a lot of merits, this particular implementation of it may fail to generalize. Given that we prune heads and score the model using the same dataset split, the model may just \"forget\" the patterns not present in it.\n",
        "\n",
        "Secondly, even the important heads may be further improved upon. Combining pruning with another approach, such as distillation, may give even better results."
      ],
      "metadata": {
        "collapsed": false,
        "id": "A2nmYoSw8IIL"
      }
    }
  ]
}